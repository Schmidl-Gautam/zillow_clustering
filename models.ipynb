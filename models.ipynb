{
 "cells": [
  {
   "cell_type": "code",
   "execution_count": 1,
   "metadata": {},
   "outputs": [],
   "source": [
    "# PLACE HOLDER COMMENT\n",
    "# RFE for home_size and lot_size"
   ]
  },
  {
   "cell_type": "code",
   "execution_count": 26,
   "metadata": {},
   "outputs": [
    {
     "data": {
      "text/html": [
       "<div>\n",
       "<style scoped>\n",
       "    .dataframe tbody tr th:only-of-type {\n",
       "        vertical-align: middle;\n",
       "    }\n",
       "\n",
       "    .dataframe tbody tr th {\n",
       "        vertical-align: top;\n",
       "    }\n",
       "\n",
       "    .dataframe thead th {\n",
       "        text-align: right;\n",
       "    }\n",
       "</style>\n",
       "<table border=\"1\" class=\"dataframe\">\n",
       "  <thead>\n",
       "    <tr style=\"text-align: right;\">\n",
       "      <th></th>\n",
       "      <th>parcel_id</th>\n",
       "      <th>bathroom_count</th>\n",
       "      <th>bedroom_count</th>\n",
       "      <th>home_size_square_feet</th>\n",
       "      <th>fips</th>\n",
       "      <th>latitude</th>\n",
       "      <th>longitude</th>\n",
       "      <th>lot_size_square_feet</th>\n",
       "      <th>raw_census_tract_and_block</th>\n",
       "      <th>region_id_city</th>\n",
       "      <th>region_id_county</th>\n",
       "      <th>region_id_zip</th>\n",
       "      <th>year_built</th>\n",
       "      <th>structure_tax_value_price</th>\n",
       "      <th>tax_value_dollar_count</th>\n",
       "      <th>assessment_year</th>\n",
       "      <th>land_tax_value_price</th>\n",
       "      <th>tax_amount</th>\n",
       "      <th>census_tract_and_block</th>\n",
       "      <th>log_error</th>\n",
       "      <th>transaction_date</th>\n",
       "      <th>county_Orange</th>\n",
       "      <th>county_Ventura</th>\n",
       "    </tr>\n",
       "  </thead>\n",
       "  <tbody>\n",
       "    <tr>\n",
       "      <th>0</th>\n",
       "      <td>14297519</td>\n",
       "      <td>3.5</td>\n",
       "      <td>4</td>\n",
       "      <td>3100.0</td>\n",
       "      <td>6059</td>\n",
       "      <td>33634931.0</td>\n",
       "      <td>-117869207.0</td>\n",
       "      <td>4506.0</td>\n",
       "      <td>6.059063e+07</td>\n",
       "      <td>53571</td>\n",
       "      <td>1286</td>\n",
       "      <td>96978</td>\n",
       "      <td>1998</td>\n",
       "      <td>485713.0</td>\n",
       "      <td>1023282.0</td>\n",
       "      <td>2016</td>\n",
       "      <td>537569.0</td>\n",
       "      <td>11013.72</td>\n",
       "      <td>6.059063e+13</td>\n",
       "      <td>0.025595</td>\n",
       "      <td>2017-01-01</td>\n",
       "      <td>1</td>\n",
       "      <td>0</td>\n",
       "    </tr>\n",
       "    <tr>\n",
       "      <th>1</th>\n",
       "      <td>17052889</td>\n",
       "      <td>1.0</td>\n",
       "      <td>2</td>\n",
       "      <td>1465.0</td>\n",
       "      <td>6111</td>\n",
       "      <td>34449266.0</td>\n",
       "      <td>-119281531.0</td>\n",
       "      <td>12647.0</td>\n",
       "      <td>6.111001e+07</td>\n",
       "      <td>13091</td>\n",
       "      <td>2061</td>\n",
       "      <td>97099</td>\n",
       "      <td>1967</td>\n",
       "      <td>88000.0</td>\n",
       "      <td>464000.0</td>\n",
       "      <td>2016</td>\n",
       "      <td>376000.0</td>\n",
       "      <td>5672.48</td>\n",
       "      <td>6.111001e+13</td>\n",
       "      <td>0.055619</td>\n",
       "      <td>2017-01-01</td>\n",
       "      <td>0</td>\n",
       "      <td>1</td>\n",
       "    </tr>\n",
       "    <tr>\n",
       "      <th>2</th>\n",
       "      <td>14186244</td>\n",
       "      <td>2.0</td>\n",
       "      <td>3</td>\n",
       "      <td>1243.0</td>\n",
       "      <td>6059</td>\n",
       "      <td>33886168.0</td>\n",
       "      <td>-117823170.0</td>\n",
       "      <td>8432.0</td>\n",
       "      <td>6.059022e+07</td>\n",
       "      <td>21412</td>\n",
       "      <td>1286</td>\n",
       "      <td>97078</td>\n",
       "      <td>1962</td>\n",
       "      <td>85289.0</td>\n",
       "      <td>564778.0</td>\n",
       "      <td>2016</td>\n",
       "      <td>479489.0</td>\n",
       "      <td>6488.30</td>\n",
       "      <td>6.059022e+13</td>\n",
       "      <td>0.005383</td>\n",
       "      <td>2017-01-01</td>\n",
       "      <td>1</td>\n",
       "      <td>0</td>\n",
       "    </tr>\n",
       "    <tr>\n",
       "      <th>3</th>\n",
       "      <td>12177905</td>\n",
       "      <td>3.0</td>\n",
       "      <td>4</td>\n",
       "      <td>2376.0</td>\n",
       "      <td>6037</td>\n",
       "      <td>34245180.0</td>\n",
       "      <td>-118240722.0</td>\n",
       "      <td>13038.0</td>\n",
       "      <td>6.037300e+07</td>\n",
       "      <td>396551</td>\n",
       "      <td>3101</td>\n",
       "      <td>96330</td>\n",
       "      <td>1970</td>\n",
       "      <td>108918.0</td>\n",
       "      <td>145143.0</td>\n",
       "      <td>2016</td>\n",
       "      <td>36225.0</td>\n",
       "      <td>1777.51</td>\n",
       "      <td>6.037300e+13</td>\n",
       "      <td>-0.103410</td>\n",
       "      <td>2017-01-01</td>\n",
       "      <td>0</td>\n",
       "      <td>0</td>\n",
       "    </tr>\n",
       "    <tr>\n",
       "      <th>4</th>\n",
       "      <td>10887214</td>\n",
       "      <td>3.0</td>\n",
       "      <td>3</td>\n",
       "      <td>1312.0</td>\n",
       "      <td>6037</td>\n",
       "      <td>34185120.0</td>\n",
       "      <td>-118414640.0</td>\n",
       "      <td>278581.0</td>\n",
       "      <td>6.037124e+07</td>\n",
       "      <td>12447</td>\n",
       "      <td>3101</td>\n",
       "      <td>96451</td>\n",
       "      <td>1964</td>\n",
       "      <td>73681.0</td>\n",
       "      <td>119407.0</td>\n",
       "      <td>2016</td>\n",
       "      <td>45726.0</td>\n",
       "      <td>1533.89</td>\n",
       "      <td>6.037124e+13</td>\n",
       "      <td>0.006940</td>\n",
       "      <td>2017-01-01</td>\n",
       "      <td>0</td>\n",
       "      <td>0</td>\n",
       "    </tr>\n",
       "  </tbody>\n",
       "</table>\n",
       "</div>"
      ],
      "text/plain": [
       "   parcel_id  bathroom_count  bedroom_count  home_size_square_feet  fips  \\\n",
       "0   14297519             3.5              4                 3100.0  6059   \n",
       "1   17052889             1.0              2                 1465.0  6111   \n",
       "2   14186244             2.0              3                 1243.0  6059   \n",
       "3   12177905             3.0              4                 2376.0  6037   \n",
       "4   10887214             3.0              3                 1312.0  6037   \n",
       "\n",
       "     latitude    longitude  lot_size_square_feet  raw_census_tract_and_block  \\\n",
       "0  33634931.0 -117869207.0                4506.0                6.059063e+07   \n",
       "1  34449266.0 -119281531.0               12647.0                6.111001e+07   \n",
       "2  33886168.0 -117823170.0                8432.0                6.059022e+07   \n",
       "3  34245180.0 -118240722.0               13038.0                6.037300e+07   \n",
       "4  34185120.0 -118414640.0              278581.0                6.037124e+07   \n",
       "\n",
       "   region_id_city  region_id_county  region_id_zip  year_built  \\\n",
       "0           53571              1286          96978        1998   \n",
       "1           13091              2061          97099        1967   \n",
       "2           21412              1286          97078        1962   \n",
       "3          396551              3101          96330        1970   \n",
       "4           12447              3101          96451        1964   \n",
       "\n",
       "   structure_tax_value_price  tax_value_dollar_count  assessment_year  \\\n",
       "0                   485713.0               1023282.0             2016   \n",
       "1                    88000.0                464000.0             2016   \n",
       "2                    85289.0                564778.0             2016   \n",
       "3                   108918.0                145143.0             2016   \n",
       "4                    73681.0                119407.0             2016   \n",
       "\n",
       "   land_tax_value_price  tax_amount  census_tract_and_block  log_error  \\\n",
       "0              537569.0    11013.72            6.059063e+13   0.025595   \n",
       "1              376000.0     5672.48            6.111001e+13   0.055619   \n",
       "2              479489.0     6488.30            6.059022e+13   0.005383   \n",
       "3               36225.0     1777.51            6.037300e+13  -0.103410   \n",
       "4               45726.0     1533.89            6.037124e+13   0.006940   \n",
       "\n",
       "  transaction_date  county_Orange  county_Ventura  \n",
       "0       2017-01-01              1               0  \n",
       "1       2017-01-01              0               1  \n",
       "2       2017-01-01              1               0  \n",
       "3       2017-01-01              0               0  \n",
       "4       2017-01-01              0               0  "
      ]
     },
     "execution_count": 26,
     "metadata": {},
     "output_type": "execute_result"
    }
   ],
   "source": [
    "import pandas as pd\n",
    "from prepare import Prepare\n",
    "from split_get_scale import SplitGetScale\n",
    "from sklearn.model_selection import GridSearchCV\n",
    "from sklearn.metrics import mean_squared_error\n",
    "from sklearn.linear_model import LinearRegression, Lasso, Ridge, TweedieRegressor\n",
    "from sklearn.feature_selection import RFE\n",
    "\n",
    "zillow = Prepare().wrangle_zillow()\n",
    "zillow = pd.get_dummies(zillow, columns=[\"county\"], drop_first=True)\n",
    "zillow.head()"
   ]
  },
  {
   "cell_type": "code",
   "execution_count": 27,
   "metadata": {},
   "outputs": [],
   "source": [
    "sgs = SplitGetScale()\n",
    "train, validate, test = sgs.split(zillow)"
   ]
  },
  {
   "cell_type": "code",
   "execution_count": 28,
   "metadata": {},
   "outputs": [
    {
     "data": {
      "text/plain": [
       "Index(['parcel_id', 'bathroom_count', 'bedroom_count', 'home_size_square_feet',\n",
       "       'fips', 'latitude', 'longitude', 'lot_size_square_feet',\n",
       "       'raw_census_tract_and_block', 'region_id_city', 'region_id_county',\n",
       "       'region_id_zip', 'year_built', 'structure_tax_value_price',\n",
       "       'tax_value_dollar_count', 'assessment_year', 'land_tax_value_price',\n",
       "       'tax_amount', 'census_tract_and_block', 'log_error', 'transaction_date',\n",
       "       'county_Orange', 'county_Ventura'],\n",
       "      dtype='object')"
      ]
     },
     "execution_count": 28,
     "metadata": {},
     "output_type": "execute_result"
    }
   ],
   "source": [
    "train.columns"
   ]
  },
  {
   "cell_type": "markdown",
   "metadata": {},
   "source": [
    "### list of columns to include in model\n",
    "- bathroom_count\n",
    "- bedroom_count\n",
    "- home_size_square_feet\n",
    "- lot_size_square_feet\n",
    "- year_built\n",
    "- tax_amount\n",
    "- county"
   ]
  },
  {
   "cell_type": "markdown",
   "metadata": {},
   "source": [
    "### list of columns not included in model\n",
    "- parcel_id\n",
    "- fips\n",
    "- latitude\n",
    "- longitude\n",
    "- raw_census_tract_and_block\n",
    "- region_id_city\n",
    "- region_id_county\n",
    "- region_id_zip\n",
    "- structure_tax_value_price\n",
    "- tax_value_dollar_count\n",
    "- assessment_year\n",
    "- land_tax_value_price\n",
    "- census_tract_and_block\n",
    "- transaction_date"
   ]
  },
  {
   "cell_type": "markdown",
   "metadata": {},
   "source": [
    "### target\n",
    "- log_error"
   ]
  },
  {
   "cell_type": "code",
   "execution_count": 29,
   "metadata": {},
   "outputs": [],
   "source": [
    "(X_train, y_train), (X_validate, y_validate), (X_test, y_test) = sgs.get_Xy(train, validate, test)"
   ]
  },
  {
   "cell_type": "markdown",
   "metadata": {},
   "source": [
    "### Baseline"
   ]
  },
  {
   "cell_type": "code",
   "execution_count": 30,
   "metadata": {},
   "outputs": [
    {
     "data": {
      "text/html": [
       "<div>\n",
       "<style scoped>\n",
       "    .dataframe tbody tr th:only-of-type {\n",
       "        vertical-align: middle;\n",
       "    }\n",
       "\n",
       "    .dataframe tbody tr th {\n",
       "        vertical-align: top;\n",
       "    }\n",
       "\n",
       "    .dataframe thead th {\n",
       "        text-align: right;\n",
       "    }\n",
       "</style>\n",
       "<table border=\"1\" class=\"dataframe\">\n",
       "  <thead>\n",
       "    <tr style=\"text-align: right;\">\n",
       "      <th></th>\n",
       "      <th>actual</th>\n",
       "    </tr>\n",
       "  </thead>\n",
       "  <tbody>\n",
       "    <tr>\n",
       "      <th>13527</th>\n",
       "      <td>-0.091213</td>\n",
       "    </tr>\n",
       "    <tr>\n",
       "      <th>52447</th>\n",
       "      <td>-0.031320</td>\n",
       "    </tr>\n",
       "    <tr>\n",
       "      <th>2559</th>\n",
       "      <td>0.059301</td>\n",
       "    </tr>\n",
       "    <tr>\n",
       "      <th>33056</th>\n",
       "      <td>-0.021502</td>\n",
       "    </tr>\n",
       "    <tr>\n",
       "      <th>63509</th>\n",
       "      <td>0.048015</td>\n",
       "    </tr>\n",
       "    <tr>\n",
       "      <th>...</th>\n",
       "      <td>...</td>\n",
       "    </tr>\n",
       "    <tr>\n",
       "      <th>65697</th>\n",
       "      <td>-0.023112</td>\n",
       "    </tr>\n",
       "    <tr>\n",
       "      <th>9026</th>\n",
       "      <td>0.048371</td>\n",
       "    </tr>\n",
       "    <tr>\n",
       "      <th>37603</th>\n",
       "      <td>0.005313</td>\n",
       "    </tr>\n",
       "    <tr>\n",
       "      <th>47311</th>\n",
       "      <td>0.029311</td>\n",
       "    </tr>\n",
       "    <tr>\n",
       "      <th>53303</th>\n",
       "      <td>0.033020</td>\n",
       "    </tr>\n",
       "  </tbody>\n",
       "</table>\n",
       "<p>47272 rows × 1 columns</p>\n",
       "</div>"
      ],
      "text/plain": [
       "         actual\n",
       "13527 -0.091213\n",
       "52447 -0.031320\n",
       "2559   0.059301\n",
       "33056 -0.021502\n",
       "63509  0.048015\n",
       "...         ...\n",
       "65697 -0.023112\n",
       "9026   0.048371\n",
       "37603  0.005313\n",
       "47311  0.029311\n",
       "53303  0.033020\n",
       "\n",
       "[47272 rows x 1 columns]"
      ]
     },
     "execution_count": 30,
     "metadata": {},
     "output_type": "execute_result"
    }
   ],
   "source": [
    "act_pred_error = pd.DataFrame({\"actual\": y_train})\n",
    "act_pred_error"
   ]
  },
  {
   "cell_type": "code",
   "execution_count": 31,
   "metadata": {},
   "outputs": [
    {
     "data": {
      "text/html": [
       "<div>\n",
       "<style scoped>\n",
       "    .dataframe tbody tr th:only-of-type {\n",
       "        vertical-align: middle;\n",
       "    }\n",
       "\n",
       "    .dataframe tbody tr th {\n",
       "        vertical-align: top;\n",
       "    }\n",
       "\n",
       "    .dataframe thead th {\n",
       "        text-align: right;\n",
       "    }\n",
       "</style>\n",
       "<table border=\"1\" class=\"dataframe\">\n",
       "  <thead>\n",
       "    <tr style=\"text-align: right;\">\n",
       "      <th></th>\n",
       "      <th>actual</th>\n",
       "      <th>baseline_prediction</th>\n",
       "    </tr>\n",
       "  </thead>\n",
       "  <tbody>\n",
       "    <tr>\n",
       "      <th>13527</th>\n",
       "      <td>-0.091213</td>\n",
       "      <td>0.016579</td>\n",
       "    </tr>\n",
       "    <tr>\n",
       "      <th>52447</th>\n",
       "      <td>-0.031320</td>\n",
       "      <td>0.016579</td>\n",
       "    </tr>\n",
       "    <tr>\n",
       "      <th>2559</th>\n",
       "      <td>0.059301</td>\n",
       "      <td>0.016579</td>\n",
       "    </tr>\n",
       "    <tr>\n",
       "      <th>33056</th>\n",
       "      <td>-0.021502</td>\n",
       "      <td>0.016579</td>\n",
       "    </tr>\n",
       "    <tr>\n",
       "      <th>63509</th>\n",
       "      <td>0.048015</td>\n",
       "      <td>0.016579</td>\n",
       "    </tr>\n",
       "    <tr>\n",
       "      <th>...</th>\n",
       "      <td>...</td>\n",
       "      <td>...</td>\n",
       "    </tr>\n",
       "    <tr>\n",
       "      <th>65697</th>\n",
       "      <td>-0.023112</td>\n",
       "      <td>0.016579</td>\n",
       "    </tr>\n",
       "    <tr>\n",
       "      <th>9026</th>\n",
       "      <td>0.048371</td>\n",
       "      <td>0.016579</td>\n",
       "    </tr>\n",
       "    <tr>\n",
       "      <th>37603</th>\n",
       "      <td>0.005313</td>\n",
       "      <td>0.016579</td>\n",
       "    </tr>\n",
       "    <tr>\n",
       "      <th>47311</th>\n",
       "      <td>0.029311</td>\n",
       "      <td>0.016579</td>\n",
       "    </tr>\n",
       "    <tr>\n",
       "      <th>53303</th>\n",
       "      <td>0.033020</td>\n",
       "      <td>0.016579</td>\n",
       "    </tr>\n",
       "  </tbody>\n",
       "</table>\n",
       "<p>47272 rows × 2 columns</p>\n",
       "</div>"
      ],
      "text/plain": [
       "         actual  baseline_prediction\n",
       "13527 -0.091213             0.016579\n",
       "52447 -0.031320             0.016579\n",
       "2559   0.059301             0.016579\n",
       "33056 -0.021502             0.016579\n",
       "63509  0.048015             0.016579\n",
       "...         ...                  ...\n",
       "65697 -0.023112             0.016579\n",
       "9026   0.048371             0.016579\n",
       "37603  0.005313             0.016579\n",
       "47311  0.029311             0.016579\n",
       "53303  0.033020             0.016579\n",
       "\n",
       "[47272 rows x 2 columns]"
      ]
     },
     "execution_count": 31,
     "metadata": {},
     "output_type": "execute_result"
    }
   ],
   "source": [
    "act_pred_error[\"baseline_prediction\"] = y_train.mean()\n",
    "act_pred_error"
   ]
  },
  {
   "cell_type": "code",
   "execution_count": 51,
   "metadata": {},
   "outputs": [
    {
     "data": {
      "text/plain": [
       "0.16559772875837225"
      ]
     },
     "execution_count": 51,
     "metadata": {},
     "output_type": "execute_result"
    }
   ],
   "source": [
    "baseline_rmse = mean_squared_error(act_pred_error[\"actual\"], act_pred_error[\"baseline_prediction\"], squared=False)\n",
    "baseline_rmse"
   ]
  },
  {
   "cell_type": "markdown",
   "metadata": {},
   "source": [
    "### Baseline RMSE is 0.17"
   ]
  },
  {
   "cell_type": "markdown",
   "metadata": {},
   "source": [
    "### Models"
   ]
  },
  {
   "cell_type": "code",
   "execution_count": 33,
   "metadata": {},
   "outputs": [],
   "source": [
    "def grid_search(X, y, model, params_dic):\n",
    "    grid = GridSearchCV(model, params_dic, n_jobs=-1)\n",
    "    return grid.fit(X, y)"
   ]
  },
  {
   "cell_type": "code",
   "execution_count": 37,
   "metadata": {},
   "outputs": [],
   "source": [
    "lasso_grid = {\"alpha\": [0.25, 0.5, 0.75, 1.0], \"warm_start\": [True, False]}\n",
    "ridge_grid = {\"alpha\": [0.25, 0.5, 0.75, 1.0], }\n",
    "tweedie_grid = {\"power\": [0], \"alpha\": [0.25, 0.5, 0.75, 1.0], \"warm_start\": [True, False]}\n",
    "\n",
    "lasso = grid_search(X_train, y_train, Lasso(random_state=123), lasso_grid)\n",
    "ridge = grid_search(X_train, y_train, Ridge(random_state=123), ridge_grid)\n",
    "tweddie = grid_search(X_train, y_train, TweedieRegressor(), tweedie_grid)"
   ]
  },
  {
   "cell_type": "markdown",
   "metadata": {},
   "source": [
    "#### grid search best estimators"
   ]
  },
  {
   "cell_type": "code",
   "execution_count": 39,
   "metadata": {},
   "outputs": [
    {
     "name": "stdout",
     "output_type": "stream",
     "text": [
      "Lasso(alpha=0.25, random_state=123, warm_start=True)\n",
      "{'alpha': 0.25, 'warm_start': True}\n"
     ]
    }
   ],
   "source": [
    "print(lasso.best_estimator_)\n",
    "print(lasso.best_params_)"
   ]
  },
  {
   "cell_type": "code",
   "execution_count": 40,
   "metadata": {},
   "outputs": [
    {
     "name": "stdout",
     "output_type": "stream",
     "text": [
      "Ridge(alpha=0.25, random_state=123)\n",
      "{'alpha': 0.25}\n"
     ]
    }
   ],
   "source": [
    "print(ridge.best_estimator_)\n",
    "print(ridge.best_params_)"
   ]
  },
  {
   "cell_type": "code",
   "execution_count": 41,
   "metadata": {},
   "outputs": [
    {
     "name": "stdout",
     "output_type": "stream",
     "text": [
      "TweedieRegressor(alpha=0.25, power=0, warm_start=True)\n",
      "{'alpha': 0.25, 'power': 0, 'warm_start': True}\n"
     ]
    }
   ],
   "source": [
    "print(tweddie.best_estimator_)\n",
    "print(tweddie.best_params_)"
   ]
  },
  {
   "cell_type": "code",
   "execution_count": 46,
   "metadata": {},
   "outputs": [],
   "source": [
    "lasso = Lasso(alpha=0.25, random_state=123, warm_start=True).fit(X_train, y_train)\n",
    "ridge = Ridge(alpha=0.25, random_state=123).fit(X_train, y_train)\n",
    "tweedie = TweedieRegressor(alpha=0.25, power=0, warm_start=True).fit(X_train, y_train)\n",
    "lr = LinearRegression().fit(X_train, y_train)"
   ]
  },
  {
   "cell_type": "code",
   "execution_count": 53,
   "metadata": {},
   "outputs": [],
   "source": [
    "lass_pred_train = lasso.predict(X_train)\n",
    "ridge_pred_train = ridge.predict(X_train)\n",
    "tweed_pred_train = tweedie.predict(X_train)\n",
    "lr_pred_train = lr.predict(X_train)"
   ]
  },
  {
   "cell_type": "code",
   "execution_count": 56,
   "metadata": {},
   "outputs": [
    {
     "name": "stdout",
     "output_type": "stream",
     "text": [
      "lasso train rmse: 0.16535618032732577\n",
      "ridge train rmse: 3.1980627336723105e-05\n",
      "tweedie train rmse: 0.14904585144512345\n",
      "lr train rmse: 1.969480651455987e-16\n"
     ]
    }
   ],
   "source": [
    "print(f\"lasso train rmse: {mean_squared_error(y_train, lass_pred_train, squared=False)}\\nridge train rmse: {mean_squared_error(y_train, ridge_pred_train, squared=False)}\\ntweedie train rmse: {mean_squared_error(y_train, tweed_pred_train, squared=False)}\\nlr train rmse: { mean_squared_error(y_train, lr_pred_train, squared=False)}\")"
   ]
  },
  {
   "cell_type": "code",
   "execution_count": 55,
   "metadata": {},
   "outputs": [],
   "source": [
    "lass_pred_val = lasso.predict(X_validate)\n",
    "ridge_pred_val = ridge.predict(X_validate)\n",
    "tweed_pred_val = tweedie.predict(X_validate)\n",
    "lr_pred_val = lr.predict(X_validate)"
   ]
  },
  {
   "cell_type": "code",
   "execution_count": 58,
   "metadata": {},
   "outputs": [
    {
     "name": "stdout",
     "output_type": "stream",
     "text": [
      "lasso validation rmse: 0.1677281814345548\n",
      "ridge validation rmse: 3.24368601888649e-05\n",
      "tweedie validation rmse: 0.15117086173501681\n",
      "lr validation rmse: 2.0221666857486523e-16\n"
     ]
    }
   ],
   "source": [
    "print(f\"lasso validation rmse: {mean_squared_error(y_validate, lass_pred_val, squared=False)}\\nridge validation rmse: {mean_squared_error(y_validate, ridge_pred_val, squared=False)}\\ntweedie validation rmse: {mean_squared_error(y_validate, tweed_pred_val, squared=False)}\\nlr validation rmse: { mean_squared_error(y_validate, lr_pred_val, squared=False)}\")"
   ]
  },
  {
   "cell_type": "markdown",
   "metadata": {},
   "source": [
    "### No models appear to be overfit"
   ]
  },
  {
   "cell_type": "markdown",
   "metadata": {},
   "source": [
    "#### Going to use Linear Regression because lowest RMSE, 2.0221666857486523e-16, and not overfit"
   ]
  },
  {
   "cell_type": "code",
   "execution_count": 59,
   "metadata": {},
   "outputs": [],
   "source": [
    "lr_pred_test = lr.predict(X_test)"
   ]
  },
  {
   "cell_type": "code",
   "execution_count": 60,
   "metadata": {},
   "outputs": [
    {
     "name": "stdout",
     "output_type": "stream",
     "text": [
      "lr test rmse: 1.9534102205731086e-16\n"
     ]
    }
   ],
   "source": [
    "print(f\"lr test rmse: { mean_squared_error(y_test, lr_pred_test, squared=False)}\")"
   ]
  },
  {
   "cell_type": "markdown",
   "metadata": {},
   "source": [
    "### Linear Regression test RMSE is 1.9534102205731086e-16"
   ]
  },
  {
   "cell_type": "markdown",
   "metadata": {},
   "source": []
  }
 ],
 "metadata": {
  "interpreter": {
   "hash": "40d3a090f54c6569ab1632332b64b2c03c39dcf918b08424e98f38b5ae0af88f"
  },
  "kernelspec": {
   "display_name": "Python 3.8.11 64-bit ('base': conda)",
   "language": "python",
   "name": "python3"
  },
  "language_info": {
   "codemirror_mode": {
    "name": "ipython",
    "version": 3
   },
   "file_extension": ".py",
   "mimetype": "text/x-python",
   "name": "python",
   "nbconvert_exporter": "python",
   "pygments_lexer": "ipython3",
   "version": "3.8.11"
  },
  "orig_nbformat": 4
 },
 "nbformat": 4,
 "nbformat_minor": 2
}
