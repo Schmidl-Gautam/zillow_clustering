{
 "cells": [
  {
   "cell_type": "code",
   "execution_count": 1,
   "metadata": {},
   "outputs": [
    {
     "name": "stderr",
     "output_type": "stream",
     "text": [
      "/Users/rajaramgautam/codeup-data-science/zillow_clustering/prepare.py:11: DtypeWarning: Columns (63) have mixed types.Specify dtype option on import or set low_memory=False.\n",
      "  df = Acquire().get_zillow_data()\n"
     ]
    }
   ],
   "source": [
    "import pandas as pd\n",
    "from prepare import Prepare\n",
    "from split_get_scale import SplitGetScale\n",
    "from sklearn.cluster import KMeans\n",
    "import seaborn as sns\n",
    "import matplotlib.pyplot as plt\n",
    "\n",
    "zillow = Prepare().wrangle_zillow()\n",
    "sgs = SplitGetScale()"
   ]
  },
  {
   "cell_type": "code",
   "execution_count": 2,
   "metadata": {},
   "outputs": [],
   "source": [
    "train, validate, test = sgs.split(zillow)\n",
    "(X_train, y_train), (X_validate, y_validate), (X_test, y_test) = sgs.get_Xy(train, validate, test)"
   ]
  },
  {
   "cell_type": "code",
   "execution_count": 3,
   "metadata": {},
   "outputs": [
    {
     "data": {
      "text/html": [
       "<div>\n",
       "<style scoped>\n",
       "    .dataframe tbody tr th:only-of-type {\n",
       "        vertical-align: middle;\n",
       "    }\n",
       "\n",
       "    .dataframe tbody tr th {\n",
       "        vertical-align: top;\n",
       "    }\n",
       "\n",
       "    .dataframe thead th {\n",
       "        text-align: right;\n",
       "    }\n",
       "</style>\n",
       "<table border=\"1\" class=\"dataframe\">\n",
       "  <thead>\n",
       "    <tr style=\"text-align: right;\">\n",
       "      <th></th>\n",
       "      <th>parcel_id</th>\n",
       "      <th>bathroom_count</th>\n",
       "      <th>bedroom_count</th>\n",
       "      <th>home_size_square_feet</th>\n",
       "      <th>fips</th>\n",
       "      <th>latitude</th>\n",
       "      <th>longitude</th>\n",
       "      <th>lot_size_square_feet</th>\n",
       "      <th>raw_census_tract_and_block</th>\n",
       "      <th>region_id_city</th>\n",
       "      <th>...</th>\n",
       "      <th>year_built</th>\n",
       "      <th>structure_tax_value_price</th>\n",
       "      <th>tax_value_dollar_count</th>\n",
       "      <th>assessment_year</th>\n",
       "      <th>land_tax_value_price</th>\n",
       "      <th>tax_amount</th>\n",
       "      <th>census_tract_and_block</th>\n",
       "      <th>log_error</th>\n",
       "      <th>transaction_date</th>\n",
       "      <th>county</th>\n",
       "    </tr>\n",
       "  </thead>\n",
       "  <tbody>\n",
       "    <tr>\n",
       "      <th>13527</th>\n",
       "      <td>11770180</td>\n",
       "      <td>1.0</td>\n",
       "      <td>2</td>\n",
       "      <td>941.0</td>\n",
       "      <td>6037</td>\n",
       "      <td>34012117.0</td>\n",
       "      <td>-118247150.0</td>\n",
       "      <td>6338.0</td>\n",
       "      <td>6.037228e+07</td>\n",
       "      <td>12447</td>\n",
       "      <td>...</td>\n",
       "      <td>1909</td>\n",
       "      <td>32430.0</td>\n",
       "      <td>72079.0</td>\n",
       "      <td>2016</td>\n",
       "      <td>39649.0</td>\n",
       "      <td>1025.09</td>\n",
       "      <td>6.037228e+13</td>\n",
       "      <td>-0.091213</td>\n",
       "      <td>2017-03-01</td>\n",
       "      <td>Los Angeles</td>\n",
       "    </tr>\n",
       "    <tr>\n",
       "      <th>52447</th>\n",
       "      <td>10884378</td>\n",
       "      <td>3.0</td>\n",
       "      <td>3</td>\n",
       "      <td>1560.0</td>\n",
       "      <td>6037</td>\n",
       "      <td>34203300.0</td>\n",
       "      <td>-118430000.0</td>\n",
       "      <td>7313.0</td>\n",
       "      <td>6.037127e+07</td>\n",
       "      <td>12447</td>\n",
       "      <td>...</td>\n",
       "      <td>2007</td>\n",
       "      <td>166541.0</td>\n",
       "      <td>363890.0</td>\n",
       "      <td>2016</td>\n",
       "      <td>197349.0</td>\n",
       "      <td>4473.98</td>\n",
       "      <td>6.037127e+13</td>\n",
       "      <td>-0.031320</td>\n",
       "      <td>2017-06-30</td>\n",
       "      <td>Los Angeles</td>\n",
       "    </tr>\n",
       "    <tr>\n",
       "      <th>2559</th>\n",
       "      <td>11749839</td>\n",
       "      <td>1.0</td>\n",
       "      <td>5</td>\n",
       "      <td>2986.0</td>\n",
       "      <td>6037</td>\n",
       "      <td>34048146.0</td>\n",
       "      <td>-118311705.0</td>\n",
       "      <td>12490.0</td>\n",
       "      <td>6.037213e+07</td>\n",
       "      <td>12447</td>\n",
       "      <td>...</td>\n",
       "      <td>1921</td>\n",
       "      <td>43056.0</td>\n",
       "      <td>78654.0</td>\n",
       "      <td>2016</td>\n",
       "      <td>35598.0</td>\n",
       "      <td>1193.71</td>\n",
       "      <td>6.037213e+13</td>\n",
       "      <td>0.059301</td>\n",
       "      <td>2017-01-12</td>\n",
       "      <td>Los Angeles</td>\n",
       "    </tr>\n",
       "    <tr>\n",
       "      <th>33056</th>\n",
       "      <td>10906993</td>\n",
       "      <td>2.0</td>\n",
       "      <td>1</td>\n",
       "      <td>1271.0</td>\n",
       "      <td>6037</td>\n",
       "      <td>34151000.0</td>\n",
       "      <td>-118406000.0</td>\n",
       "      <td>19158.0</td>\n",
       "      <td>6.037143e+07</td>\n",
       "      <td>12447</td>\n",
       "      <td>...</td>\n",
       "      <td>1978</td>\n",
       "      <td>151657.0</td>\n",
       "      <td>469812.0</td>\n",
       "      <td>2016</td>\n",
       "      <td>318155.0</td>\n",
       "      <td>5630.53</td>\n",
       "      <td>6.037143e+13</td>\n",
       "      <td>-0.021502</td>\n",
       "      <td>2017-05-04</td>\n",
       "      <td>Los Angeles</td>\n",
       "    </tr>\n",
       "    <tr>\n",
       "      <th>63509</th>\n",
       "      <td>10903027</td>\n",
       "      <td>3.0</td>\n",
       "      <td>3</td>\n",
       "      <td>2043.0</td>\n",
       "      <td>6037</td>\n",
       "      <td>34160988.0</td>\n",
       "      <td>-118412064.0</td>\n",
       "      <td>5001.0</td>\n",
       "      <td>6.037125e+07</td>\n",
       "      <td>12447</td>\n",
       "      <td>...</td>\n",
       "      <td>1962</td>\n",
       "      <td>191127.0</td>\n",
       "      <td>312927.0</td>\n",
       "      <td>2016</td>\n",
       "      <td>121800.0</td>\n",
       "      <td>3887.88</td>\n",
       "      <td>6.037125e+13</td>\n",
       "      <td>0.048015</td>\n",
       "      <td>2017-08-03</td>\n",
       "      <td>Los Angeles</td>\n",
       "    </tr>\n",
       "  </tbody>\n",
       "</table>\n",
       "<p>5 rows × 22 columns</p>\n",
       "</div>"
      ],
      "text/plain": [
       "       parcel_id  bathroom_count  bedroom_count  home_size_square_feet  fips  \\\n",
       "13527   11770180             1.0              2                  941.0  6037   \n",
       "52447   10884378             3.0              3                 1560.0  6037   \n",
       "2559    11749839             1.0              5                 2986.0  6037   \n",
       "33056   10906993             2.0              1                 1271.0  6037   \n",
       "63509   10903027             3.0              3                 2043.0  6037   \n",
       "\n",
       "         latitude    longitude  lot_size_square_feet  \\\n",
       "13527  34012117.0 -118247150.0                6338.0   \n",
       "52447  34203300.0 -118430000.0                7313.0   \n",
       "2559   34048146.0 -118311705.0               12490.0   \n",
       "33056  34151000.0 -118406000.0               19158.0   \n",
       "63509  34160988.0 -118412064.0                5001.0   \n",
       "\n",
       "       raw_census_tract_and_block  region_id_city  ...  year_built  \\\n",
       "13527                6.037228e+07           12447  ...        1909   \n",
       "52447                6.037127e+07           12447  ...        2007   \n",
       "2559                 6.037213e+07           12447  ...        1921   \n",
       "33056                6.037143e+07           12447  ...        1978   \n",
       "63509                6.037125e+07           12447  ...        1962   \n",
       "\n",
       "       structure_tax_value_price  tax_value_dollar_count  assessment_year  \\\n",
       "13527                    32430.0                 72079.0             2016   \n",
       "52447                   166541.0                363890.0             2016   \n",
       "2559                     43056.0                 78654.0             2016   \n",
       "33056                   151657.0                469812.0             2016   \n",
       "63509                   191127.0                312927.0             2016   \n",
       "\n",
       "       land_tax_value_price  tax_amount  census_tract_and_block  log_error  \\\n",
       "13527               39649.0     1025.09            6.037228e+13  -0.091213   \n",
       "52447              197349.0     4473.98            6.037127e+13  -0.031320   \n",
       "2559                35598.0     1193.71            6.037213e+13   0.059301   \n",
       "33056              318155.0     5630.53            6.037143e+13  -0.021502   \n",
       "63509              121800.0     3887.88            6.037125e+13   0.048015   \n",
       "\n",
       "       transaction_date       county  \n",
       "13527        2017-03-01  Los Angeles  \n",
       "52447        2017-06-30  Los Angeles  \n",
       "2559         2017-01-12  Los Angeles  \n",
       "33056        2017-05-04  Los Angeles  \n",
       "63509        2017-08-03  Los Angeles  \n",
       "\n",
       "[5 rows x 22 columns]"
      ]
     },
     "execution_count": 3,
     "metadata": {},
     "output_type": "execute_result"
    }
   ],
   "source": [
    "train.head()"
   ]
  },
  {
   "cell_type": "code",
   "execution_count": 4,
   "metadata": {},
   "outputs": [
    {
     "name": "stdout",
     "output_type": "stream",
     "text": [
      "<class 'pandas.core.frame.DataFrame'>\n",
      "Int64Index: 47272 entries, 13527 to 53303\n",
      "Data columns (total 22 columns):\n",
      " #   Column                      Non-Null Count  Dtype         \n",
      "---  ------                      --------------  -----         \n",
      " 0   parcel_id                   47272 non-null  int64         \n",
      " 1   bathroom_count              47272 non-null  float64       \n",
      " 2   bedroom_count               47272 non-null  int64         \n",
      " 3   home_size_square_feet       47272 non-null  float64       \n",
      " 4   fips                        47272 non-null  int64         \n",
      " 5   latitude                    47272 non-null  float64       \n",
      " 6   longitude                   47272 non-null  float64       \n",
      " 7   lot_size_square_feet        47272 non-null  float64       \n",
      " 8   raw_census_tract_and_block  47272 non-null  float64       \n",
      " 9   region_id_city              47272 non-null  int64         \n",
      " 10  region_id_county            47272 non-null  int64         \n",
      " 11  region_id_zip               47272 non-null  int64         \n",
      " 12  year_built                  47272 non-null  int64         \n",
      " 13  structure_tax_value_price   47272 non-null  float64       \n",
      " 14  tax_value_dollar_count      47272 non-null  float64       \n",
      " 15  assessment_year             47272 non-null  int64         \n",
      " 16  land_tax_value_price        47272 non-null  float64       \n",
      " 17  tax_amount                  47272 non-null  float64       \n",
      " 18  census_tract_and_block      47272 non-null  float64       \n",
      " 19  log_error                   47272 non-null  float64       \n",
      " 20  transaction_date            47272 non-null  datetime64[ns]\n",
      " 21  county                      47272 non-null  object        \n",
      "dtypes: datetime64[ns](1), float64(12), int64(8), object(1)\n",
      "memory usage: 8.3+ MB\n"
     ]
    }
   ],
   "source": [
    "train.info()"
   ]
  },
  {
   "cell_type": "code",
   "execution_count": 7,
   "metadata": {},
   "outputs": [],
   "source": [
    "from sklearn.preprocessing import MinMaxScaler\n",
    "\n",
    "\n",
    "# get the list of the columns to scale\n",
    "cols = ['bathroom_count', 'bedroom_count','home_size_square_feet', 'lot_size_square_feet', 'structure_tax_value_price', 'tax_value_dollar_count',\n",
    "                'land_tax_value_price', 'tax_amount', 'log_error']  \n",
    "\n",
    "\n",
    "# create the scaler object\n",
    "scaler = MinMaxScaler()\n",
    "\n",
    "\n",
    "\n",
    "\n",
    "# .copy() makes a proper copy\n",
    "# this is an alternative to wrapping the scaled numpy array in a pd.Dataframe()\n",
    "train_scaled = train.copy()\n",
    "validate_scaled = validate.copy()\n",
    "test_scaled = test.copy()\n",
    "\n",
    "# apply our scaler (fit only on train!)\n",
    "train_scaled[cols] = scaler.fit_transform(train[cols])\n",
    "validate_scaled[cols] = scaler.transform(validate[cols])\n",
    "test_scaled[cols] = scaler.transform(test[cols])\n",
    "\n",
    "# train_scaled = train_scaled.drop(columns=column)\n",
    "# validate_scaled = validate_scaled.drop(columns=column)\n",
    "# test_scaled = test_scaled.drop(columns=column)"
   ]
  },
  {
   "cell_type": "code",
   "execution_count": 15,
   "metadata": {},
   "outputs": [
    {
     "data": {
      "text/html": [
       "<div>\n",
       "<style scoped>\n",
       "    .dataframe tbody tr th:only-of-type {\n",
       "        vertical-align: middle;\n",
       "    }\n",
       "\n",
       "    .dataframe tbody tr th {\n",
       "        vertical-align: top;\n",
       "    }\n",
       "\n",
       "    .dataframe thead th {\n",
       "        text-align: right;\n",
       "    }\n",
       "</style>\n",
       "<table border=\"1\" class=\"dataframe\">\n",
       "  <thead>\n",
       "    <tr style=\"text-align: right;\">\n",
       "      <th></th>\n",
       "      <th>parcel_id</th>\n",
       "      <th>bathroom_count</th>\n",
       "      <th>bedroom_count</th>\n",
       "      <th>home_size_square_feet</th>\n",
       "      <th>fips</th>\n",
       "      <th>latitude</th>\n",
       "      <th>longitude</th>\n",
       "      <th>lot_size_square_feet</th>\n",
       "      <th>raw_census_tract_and_block</th>\n",
       "      <th>region_id_city</th>\n",
       "      <th>...</th>\n",
       "      <th>year_built</th>\n",
       "      <th>structure_tax_value_price</th>\n",
       "      <th>tax_value_dollar_count</th>\n",
       "      <th>assessment_year</th>\n",
       "      <th>land_tax_value_price</th>\n",
       "      <th>tax_amount</th>\n",
       "      <th>census_tract_and_block</th>\n",
       "      <th>log_error</th>\n",
       "      <th>transaction_date</th>\n",
       "      <th>county</th>\n",
       "    </tr>\n",
       "  </thead>\n",
       "  <tbody>\n",
       "    <tr>\n",
       "      <th>53988</th>\n",
       "      <td>12890932</td>\n",
       "      <td>0.125</td>\n",
       "      <td>0.250</td>\n",
       "      <td>0.146082</td>\n",
       "      <td>6037</td>\n",
       "      <td>34068177.0</td>\n",
       "      <td>-117766814.0</td>\n",
       "      <td>0.001517</td>\n",
       "      <td>6.037402e+07</td>\n",
       "      <td>20008</td>\n",
       "      <td>...</td>\n",
       "      <td>1952</td>\n",
       "      <td>0.017391</td>\n",
       "      <td>0.012181</td>\n",
       "      <td>2016</td>\n",
       "      <td>0.004538</td>\n",
       "      <td>0.016309</td>\n",
       "      <td>6.037402e+13</td>\n",
       "      <td>0.563224</td>\n",
       "      <td>2017-07-05</td>\n",
       "      <td>Los Angeles</td>\n",
       "    </tr>\n",
       "    <tr>\n",
       "      <th>46376</th>\n",
       "      <td>10859410</td>\n",
       "      <td>0.125</td>\n",
       "      <td>0.125</td>\n",
       "      <td>0.126029</td>\n",
       "      <td>6037</td>\n",
       "      <td>34144673.0</td>\n",
       "      <td>-118432779.0</td>\n",
       "      <td>0.000889</td>\n",
       "      <td>6.037141e+07</td>\n",
       "      <td>12447</td>\n",
       "      <td>...</td>\n",
       "      <td>1950</td>\n",
       "      <td>0.060269</td>\n",
       "      <td>0.104259</td>\n",
       "      <td>2016</td>\n",
       "      <td>0.086490</td>\n",
       "      <td>0.102512</td>\n",
       "      <td>6.037141e+13</td>\n",
       "      <td>0.545603</td>\n",
       "      <td>2017-06-14</td>\n",
       "      <td>Los Angeles</td>\n",
       "    </tr>\n",
       "    <tr>\n",
       "      <th>29651</th>\n",
       "      <td>12525536</td>\n",
       "      <td>0.250</td>\n",
       "      <td>0.125</td>\n",
       "      <td>0.120850</td>\n",
       "      <td>6037</td>\n",
       "      <td>33759601.0</td>\n",
       "      <td>-118115692.0</td>\n",
       "      <td>0.140395</td>\n",
       "      <td>6.037578e+07</td>\n",
       "      <td>46298</td>\n",
       "      <td>...</td>\n",
       "      <td>1974</td>\n",
       "      <td>0.058627</td>\n",
       "      <td>0.084030</td>\n",
       "      <td>2016</td>\n",
       "      <td>0.062815</td>\n",
       "      <td>0.082191</td>\n",
       "      <td>6.037578e+13</td>\n",
       "      <td>0.568808</td>\n",
       "      <td>2017-04-25</td>\n",
       "      <td>Los Angeles</td>\n",
       "    </tr>\n",
       "    <tr>\n",
       "      <th>51043</th>\n",
       "      <td>12607314</td>\n",
       "      <td>0.250</td>\n",
       "      <td>0.375</td>\n",
       "      <td>0.315538</td>\n",
       "      <td>6037</td>\n",
       "      <td>33819600.0</td>\n",
       "      <td>-118352270.0</td>\n",
       "      <td>0.001073</td>\n",
       "      <td>6.037651e+07</td>\n",
       "      <td>54722</td>\n",
       "      <td>...</td>\n",
       "      <td>1977</td>\n",
       "      <td>0.092453</td>\n",
       "      <td>0.073728</td>\n",
       "      <td>2016</td>\n",
       "      <td>0.025496</td>\n",
       "      <td>0.070989</td>\n",
       "      <td>6.037651e+13</td>\n",
       "      <td>0.548206</td>\n",
       "      <td>2017-06-27</td>\n",
       "      <td>Los Angeles</td>\n",
       "    </tr>\n",
       "    <tr>\n",
       "      <th>59852</th>\n",
       "      <td>12326348</td>\n",
       "      <td>0.125</td>\n",
       "      <td>0.250</td>\n",
       "      <td>0.128287</td>\n",
       "      <td>6037</td>\n",
       "      <td>33916307.0</td>\n",
       "      <td>-118165377.0</td>\n",
       "      <td>0.000827</td>\n",
       "      <td>6.037536e+07</td>\n",
       "      <td>47762</td>\n",
       "      <td>...</td>\n",
       "      <td>1941</td>\n",
       "      <td>0.021096</td>\n",
       "      <td>0.077705</td>\n",
       "      <td>2016</td>\n",
       "      <td>0.082394</td>\n",
       "      <td>0.078951</td>\n",
       "      <td>6.037536e+13</td>\n",
       "      <td>0.566108</td>\n",
       "      <td>2017-07-24</td>\n",
       "      <td>Los Angeles</td>\n",
       "    </tr>\n",
       "  </tbody>\n",
       "</table>\n",
       "<p>5 rows × 22 columns</p>\n",
       "</div>"
      ],
      "text/plain": [
       "       parcel_id  bathroom_count  bedroom_count  home_size_square_feet  fips  \\\n",
       "53988   12890932           0.125          0.250               0.146082  6037   \n",
       "46376   10859410           0.125          0.125               0.126029  6037   \n",
       "29651   12525536           0.250          0.125               0.120850  6037   \n",
       "51043   12607314           0.250          0.375               0.315538  6037   \n",
       "59852   12326348           0.125          0.250               0.128287  6037   \n",
       "\n",
       "         latitude    longitude  lot_size_square_feet  \\\n",
       "53988  34068177.0 -117766814.0              0.001517   \n",
       "46376  34144673.0 -118432779.0              0.000889   \n",
       "29651  33759601.0 -118115692.0              0.140395   \n",
       "51043  33819600.0 -118352270.0              0.001073   \n",
       "59852  33916307.0 -118165377.0              0.000827   \n",
       "\n",
       "       raw_census_tract_and_block  region_id_city  ...  year_built  \\\n",
       "53988                6.037402e+07           20008  ...        1952   \n",
       "46376                6.037141e+07           12447  ...        1950   \n",
       "29651                6.037578e+07           46298  ...        1974   \n",
       "51043                6.037651e+07           54722  ...        1977   \n",
       "59852                6.037536e+07           47762  ...        1941   \n",
       "\n",
       "       structure_tax_value_price  tax_value_dollar_count  assessment_year  \\\n",
       "53988                   0.017391                0.012181             2016   \n",
       "46376                   0.060269                0.104259             2016   \n",
       "29651                   0.058627                0.084030             2016   \n",
       "51043                   0.092453                0.073728             2016   \n",
       "59852                   0.021096                0.077705             2016   \n",
       "\n",
       "       land_tax_value_price  tax_amount  census_tract_and_block  log_error  \\\n",
       "53988              0.004538    0.016309            6.037402e+13   0.563224   \n",
       "46376              0.086490    0.102512            6.037141e+13   0.545603   \n",
       "29651              0.062815    0.082191            6.037578e+13   0.568808   \n",
       "51043              0.025496    0.070989            6.037651e+13   0.548206   \n",
       "59852              0.082394    0.078951            6.037536e+13   0.566108   \n",
       "\n",
       "       transaction_date       county  \n",
       "53988        2017-07-05  Los Angeles  \n",
       "46376        2017-06-14  Los Angeles  \n",
       "29651        2017-04-25  Los Angeles  \n",
       "51043        2017-06-27  Los Angeles  \n",
       "59852        2017-07-24  Los Angeles  \n",
       "\n",
       "[5 rows x 22 columns]"
      ]
     },
     "execution_count": 15,
     "metadata": {},
     "output_type": "execute_result"
    }
   ],
   "source": [
    "test_scaled.head()"
   ]
  },
  {
   "cell_type": "code",
   "execution_count": 9,
   "metadata": {},
   "outputs": [
    {
     "name": "stdout",
     "output_type": "stream",
     "text": [
      "<class 'pandas.core.frame.DataFrame'>\n",
      "Int64Index: 47272 entries, 13527 to 53303\n",
      "Data columns (total 22 columns):\n",
      " #   Column                      Non-Null Count  Dtype         \n",
      "---  ------                      --------------  -----         \n",
      " 0   parcel_id                   47272 non-null  int64         \n",
      " 1   bathroom_count              47272 non-null  float64       \n",
      " 2   bedroom_count               47272 non-null  int64         \n",
      " 3   home_size_square_feet       47272 non-null  float64       \n",
      " 4   fips                        47272 non-null  int64         \n",
      " 5   latitude                    47272 non-null  float64       \n",
      " 6   longitude                   47272 non-null  float64       \n",
      " 7   lot_size_square_feet        47272 non-null  float64       \n",
      " 8   raw_census_tract_and_block  47272 non-null  float64       \n",
      " 9   region_id_city              47272 non-null  int64         \n",
      " 10  region_id_county            47272 non-null  int64         \n",
      " 11  region_id_zip               47272 non-null  int64         \n",
      " 12  year_built                  47272 non-null  int64         \n",
      " 13  structure_tax_value_price   47272 non-null  float64       \n",
      " 14  tax_value_dollar_count      47272 non-null  float64       \n",
      " 15  assessment_year             47272 non-null  int64         \n",
      " 16  land_tax_value_price        47272 non-null  float64       \n",
      " 17  tax_amount                  47272 non-null  float64       \n",
      " 18  census_tract_and_block      47272 non-null  float64       \n",
      " 19  log_error                   47272 non-null  float64       \n",
      " 20  transaction_date            47272 non-null  datetime64[ns]\n",
      " 21  county                      47272 non-null  object        \n",
      "dtypes: datetime64[ns](1), float64(12), int64(8), object(1)\n",
      "memory usage: 8.3+ MB\n"
     ]
    }
   ],
   "source": [
    "train.info()"
   ]
  },
  {
   "cell_type": "code",
   "execution_count": 16,
   "metadata": {},
   "outputs": [],
   "source": [
    "# function to get the plot of inertia against K value\n",
    "def get_k_val_from_elbow(df, features):\n",
    "    '''Takes in a dataframe and a list of features to cluster on and returns a plot of K value against the inertia'''\n",
    "    output = {}\n",
    "\n",
    "    for k in range(1, 20):\n",
    "        kmeans = KMeans(n_clusters=k)\n",
    "        kmeans.fit(df[features])\n",
    "        output[k] = kmeans.inertia_\n",
    "\n",
    "    ax = pd.Series(output).plot(figsize=(13, 7))\n",
    "    ax.set(xlabel='k', ylabel='inertia', xticks=range(1, 20), title='The elbow method for determining k')\n",
    "    ax.grid()"
   ]
  },
  {
   "cell_type": "code",
   "execution_count": 14,
   "metadata": {},
   "outputs": [
    {
     "data": {
      "image/png": "[encoded data removed]",
      "text/plain": [
       "<Figure size 936x504 with 1 Axes>"
      ]
     },
     "metadata": {
      "needs_background": "light"
     },
     "output_type": "display_data"
    }
   ],
   "source": [
    "# creating the list of the features to cluster on\n",
    "loc_features = ['latitude', 'longitude', 'region_id_zip', 'fips']\n",
    "\n",
    "# lets plot the k and inertia\n",
    "get_k_val_from_elbow(train_scaled, features = loc_features)\n",
    "\n"
   ]
  },
  {
   "cell_type": "code",
   "execution_count": 20,
   "metadata": {},
   "outputs": [
    {
     "data": {
      "text/plain": [
       "array([2, 0, 2, ..., 3, 2, 1], dtype=int32)"
      ]
     },
     "execution_count": 20,
     "metadata": {},
     "output_type": "execute_result"
    }
   ],
   "source": [
    "# lets keep k as 4\n",
    "\n",
    "# creating the object\n",
    "kmeans1 = KMeans(n_clusters = 4, max_iter = 500)\n",
    "\n",
    "# fitting the object\n",
    "kmeans1.fit(train_scaled[loc_features])\n",
    "\n",
    "#predicting using the kmeans object\n",
    "y_kmeans1 = kmeans1.predict(train_scaled[loc_features])\n",
    "y_kmeans1 "
   ]
  },
  {
   "cell_type": "code",
   "execution_count": 21,
   "metadata": {},
   "outputs": [
    {
     "data": {
      "text/plain": [
       "array([[ 3.43325555e+07, -1.18392684e+08,  9.66088361e+04,\n",
       "         6.03794101e+03],\n",
       "       [ 3.37599896e+07, -1.17822792e+08,  9.68711648e+04,\n",
       "         6.05543334e+03],\n",
       "       [ 3.39725449e+07, -1.18230608e+08,  9.62963514e+04,\n",
       "         6.03730690e+03],\n",
       "       [ 3.42312748e+07, -1.18981171e+08,  9.68650826e+04,\n",
       "         6.10640896e+03]])"
      ]
     },
     "execution_count": 21,
     "metadata": {},
     "output_type": "execute_result"
    },
    {
     "data": {
      "image/png": "[encoded data removed]",
      "text/plain": [
       "<Figure size 432x288 with 1 Axes>"
      ]
     },
     "metadata": {
      "needs_background": "light"
     },
     "output_type": "display_data"
    }
   ],
   "source": [
    "# ploting the centroids\n",
    "plt.scatter(train[loc_features].iloc[:, 0], train[loc_features].iloc[:, 1], c=y_kmeans1, s=20, cmap='viridis')\n",
    "centers = kmeans1.cluster_centers_\n",
    "plt.scatter(centers[:, 0], centers[:, 1], c='red', s=500, alpha=1, marker = 'x')\n",
    "centers"
   ]
  },
  {
   "cell_type": "code",
   "execution_count": 22,
   "metadata": {},
   "outputs": [],
   "source": [
    "# Adding our prediction to the DataFrame\n",
    "train_scaled['loc_cluster'] = y_kmeans1"
   ]
  },
  {
   "cell_type": "code",
   "execution_count": 23,
   "metadata": {},
   "outputs": [
    {
     "data": {
      "text/html": [
       "<div>\n",
       "<style scoped>\n",
       "    .dataframe tbody tr th:only-of-type {\n",
       "        vertical-align: middle;\n",
       "    }\n",
       "\n",
       "    .dataframe tbody tr th {\n",
       "        vertical-align: top;\n",
       "    }\n",
       "\n",
       "    .dataframe thead th {\n",
       "        text-align: right;\n",
       "    }\n",
       "</style>\n",
       "<table border=\"1\" class=\"dataframe\">\n",
       "  <thead>\n",
       "    <tr style=\"text-align: right;\">\n",
       "      <th></th>\n",
       "      <th>parcel_id</th>\n",
       "      <th>bathroom_count</th>\n",
       "      <th>bedroom_count</th>\n",
       "      <th>home_size_square_feet</th>\n",
       "      <th>fips</th>\n",
       "      <th>latitude</th>\n",
       "      <th>longitude</th>\n",
       "      <th>lot_size_square_feet</th>\n",
       "      <th>raw_census_tract_and_block</th>\n",
       "      <th>region_id_city</th>\n",
       "      <th>...</th>\n",
       "      <th>structure_tax_value_price</th>\n",
       "      <th>tax_value_dollar_count</th>\n",
       "      <th>assessment_year</th>\n",
       "      <th>land_tax_value_price</th>\n",
       "      <th>tax_amount</th>\n",
       "      <th>census_tract_and_block</th>\n",
       "      <th>log_error</th>\n",
       "      <th>transaction_date</th>\n",
       "      <th>county</th>\n",
       "      <th>loc_cluster</th>\n",
       "    </tr>\n",
       "  </thead>\n",
       "  <tbody>\n",
       "    <tr>\n",
       "      <th>13527</th>\n",
       "      <td>11770180</td>\n",
       "      <td>0.000</td>\n",
       "      <td>0.125</td>\n",
       "      <td>0.077158</td>\n",
       "      <td>6037</td>\n",
       "      <td>34012117.0</td>\n",
       "      <td>-118247150.0</td>\n",
       "      <td>0.000875</td>\n",
       "      <td>6.037228e+07</td>\n",
       "      <td>12447</td>\n",
       "      <td>...</td>\n",
       "      <td>0.011004</td>\n",
       "      <td>0.012657</td>\n",
       "      <td>2016</td>\n",
       "      <td>0.009779</td>\n",
       "      <td>0.015755</td>\n",
       "      <td>6.037228e+13</td>\n",
       "      <td>0.555870</td>\n",
       "      <td>2017-03-01</td>\n",
       "      <td>Los Angeles</td>\n",
       "      <td>2</td>\n",
       "    </tr>\n",
       "    <tr>\n",
       "      <th>52447</th>\n",
       "      <td>10884378</td>\n",
       "      <td>0.250</td>\n",
       "      <td>0.250</td>\n",
       "      <td>0.159363</td>\n",
       "      <td>6037</td>\n",
       "      <td>34203300.0</td>\n",
       "      <td>-118430000.0</td>\n",
       "      <td>0.001015</td>\n",
       "      <td>6.037127e+07</td>\n",
       "      <td>12447</td>\n",
       "      <td>...</td>\n",
       "      <td>0.056571</td>\n",
       "      <td>0.071437</td>\n",
       "      <td>2016</td>\n",
       "      <td>0.048833</td>\n",
       "      <td>0.071433</td>\n",
       "      <td>6.037127e+13</td>\n",
       "      <td>0.563501</td>\n",
       "      <td>2017-06-30</td>\n",
       "      <td>Los Angeles</td>\n",
       "      <td>0</td>\n",
       "    </tr>\n",
       "    <tr>\n",
       "      <th>2559</th>\n",
       "      <td>11749839</td>\n",
       "      <td>0.000</td>\n",
       "      <td>0.500</td>\n",
       "      <td>0.348738</td>\n",
       "      <td>6037</td>\n",
       "      <td>34048146.0</td>\n",
       "      <td>-118311705.0</td>\n",
       "      <td>0.001758</td>\n",
       "      <td>6.037213e+07</td>\n",
       "      <td>12447</td>\n",
       "      <td>...</td>\n",
       "      <td>0.014614</td>\n",
       "      <td>0.013982</td>\n",
       "      <td>2016</td>\n",
       "      <td>0.008776</td>\n",
       "      <td>0.018477</td>\n",
       "      <td>6.037213e+13</td>\n",
       "      <td>0.575048</td>\n",
       "      <td>2017-01-12</td>\n",
       "      <td>Los Angeles</td>\n",
       "      <td>2</td>\n",
       "    </tr>\n",
       "    <tr>\n",
       "      <th>33056</th>\n",
       "      <td>10906993</td>\n",
       "      <td>0.125</td>\n",
       "      <td>0.000</td>\n",
       "      <td>0.120983</td>\n",
       "      <td>6037</td>\n",
       "      <td>34151000.0</td>\n",
       "      <td>-118406000.0</td>\n",
       "      <td>0.002714</td>\n",
       "      <td>6.037143e+07</td>\n",
       "      <td>12447</td>\n",
       "      <td>...</td>\n",
       "      <td>0.051514</td>\n",
       "      <td>0.092773</td>\n",
       "      <td>2016</td>\n",
       "      <td>0.078750</td>\n",
       "      <td>0.090104</td>\n",
       "      <td>6.037143e+13</td>\n",
       "      <td>0.564752</td>\n",
       "      <td>2017-05-04</td>\n",
       "      <td>Los Angeles</td>\n",
       "      <td>0</td>\n",
       "    </tr>\n",
       "    <tr>\n",
       "      <th>63509</th>\n",
       "      <td>10903027</td>\n",
       "      <td>0.250</td>\n",
       "      <td>0.250</td>\n",
       "      <td>0.223506</td>\n",
       "      <td>6037</td>\n",
       "      <td>34160988.0</td>\n",
       "      <td>-118412064.0</td>\n",
       "      <td>0.000684</td>\n",
       "      <td>6.037125e+07</td>\n",
       "      <td>12447</td>\n",
       "      <td>...</td>\n",
       "      <td>0.064924</td>\n",
       "      <td>0.061172</td>\n",
       "      <td>2016</td>\n",
       "      <td>0.030123</td>\n",
       "      <td>0.061971</td>\n",
       "      <td>6.037125e+13</td>\n",
       "      <td>0.573610</td>\n",
       "      <td>2017-08-03</td>\n",
       "      <td>Los Angeles</td>\n",
       "      <td>0</td>\n",
       "    </tr>\n",
       "  </tbody>\n",
       "</table>\n",
       "<p>5 rows × 23 columns</p>\n",
       "</div>"
      ],
      "text/plain": [
       "       parcel_id  bathroom_count  bedroom_count  home_size_square_feet  fips  \\\n",
       "13527   11770180           0.000          0.125               0.077158  6037   \n",
       "52447   10884378           0.250          0.250               0.159363  6037   \n",
       "2559    11749839           0.000          0.500               0.348738  6037   \n",
       "33056   10906993           0.125          0.000               0.120983  6037   \n",
       "63509   10903027           0.250          0.250               0.223506  6037   \n",
       "\n",
       "         latitude    longitude  lot_size_square_feet  \\\n",
       "13527  34012117.0 -118247150.0              0.000875   \n",
       "52447  34203300.0 -118430000.0              0.001015   \n",
       "2559   34048146.0 -118311705.0              0.001758   \n",
       "33056  34151000.0 -118406000.0              0.002714   \n",
       "63509  34160988.0 -118412064.0              0.000684   \n",
       "\n",
       "       raw_census_tract_and_block  region_id_city  ...  \\\n",
       "13527                6.037228e+07           12447  ...   \n",
       "52447                6.037127e+07           12447  ...   \n",
       "2559                 6.037213e+07           12447  ...   \n",
       "33056                6.037143e+07           12447  ...   \n",
       "63509                6.037125e+07           12447  ...   \n",
       "\n",
       "       structure_tax_value_price  tax_value_dollar_count  assessment_year  \\\n",
       "13527                   0.011004                0.012657             2016   \n",
       "52447                   0.056571                0.071437             2016   \n",
       "2559                    0.014614                0.013982             2016   \n",
       "33056                   0.051514                0.092773             2016   \n",
       "63509                   0.064924                0.061172             2016   \n",
       "\n",
       "       land_tax_value_price  tax_amount  census_tract_and_block  log_error  \\\n",
       "13527              0.009779    0.015755            6.037228e+13   0.555870   \n",
       "52447              0.048833    0.071433            6.037127e+13   0.563501   \n",
       "2559               0.008776    0.018477            6.037213e+13   0.575048   \n",
       "33056              0.078750    0.090104            6.037143e+13   0.564752   \n",
       "63509              0.030123    0.061971            6.037125e+13   0.573610   \n",
       "\n",
       "       transaction_date       county  loc_cluster  \n",
       "13527        2017-03-01  Los Angeles            2  \n",
       "52447        2017-06-30  Los Angeles            0  \n",
       "2559         2017-01-12  Los Angeles            2  \n",
       "33056        2017-05-04  Los Angeles            0  \n",
       "63509        2017-08-03  Los Angeles            0  \n",
       "\n",
       "[5 rows x 23 columns]"
      ]
     },
     "execution_count": 23,
     "metadata": {},
     "output_type": "execute_result"
    }
   ],
   "source": [
    "train_scaled.head()"
   ]
  },
  {
   "cell_type": "markdown",
   "metadata": {},
   "source": [
    "### Creating clusters based on house features "
   ]
  },
  {
   "cell_type": "code",
   "execution_count": 53,
   "metadata": {},
   "outputs": [
    {
     "data": {
      "image/png": "[encoded data removed]",
      "text/plain": [
       "<Figure size 936x504 with 1 Axes>"
      ]
     },
     "metadata": {
      "needs_background": "light"
     },
     "output_type": "display_data"
    }
   ],
   "source": [
    "#  features that will be used are 'bathroom_count', 'bedroom_count','home_size_square_feet', 'lot_size_square_feet'\n",
    "\n",
    "home_features = ['bathroom_count', 'bedroom_count', 'home_size_square_feet', 'lot_size_square_feet']\n",
    "\n",
    "# plotting k and inertia\n",
    "get_k_val_from_elbow(train_scaled, features = home_features)"
   ]
  },
  {
   "cell_type": "code",
   "execution_count": 54,
   "metadata": {},
   "outputs": [
    {
     "data": {
      "text/plain": [
       "array([2, 3, 1, ..., 2, 3, 1], dtype=int32)"
      ]
     },
     "execution_count": 54,
     "metadata": {},
     "output_type": "execute_result"
    }
   ],
   "source": [
    "# lets keep k as 5\n",
    "\n",
    "# creating the object\n",
    "kmeans2 = KMeans(n_clusters = 5, max_iter = 500)\n",
    "\n",
    "# fitting the object\n",
    "kmeans2.fit(train_scaled[home_features])\n",
    "\n",
    "#predicting using the kmeans object\n",
    "y_kmeans2 = kmeans2.predict(train_scaled[home_features])\n",
    "y_kmeans2"
   ]
  },
  {
   "cell_type": "code",
   "execution_count": 55,
   "metadata": {},
   "outputs": [
    {
     "data": {
      "text/plain": [
       "array([[0.10380818, 0.27742652, 0.14444412, 0.00222222],\n",
       "       [0.23884372, 0.39784012, 0.28225346, 0.00222148],\n",
       "       [0.06622453, 0.10271295, 0.09313658, 0.00617482],\n",
       "       [0.2317262 , 0.21870699, 0.19766858, 0.00547779],\n",
       "       [0.44752577, 0.45876289, 0.50558547, 0.0031278 ]])"
      ]
     },
     "execution_count": 55,
     "metadata": {},
     "output_type": "execute_result"
    },
    {
     "data": {
      "image/png": "[encoded data removed]",
      "text/plain": [
       "<Figure size 432x288 with 1 Axes>"
      ]
     },
     "metadata": {
      "needs_background": "light"
     },
     "output_type": "display_data"
    }
   ],
   "source": [
    "# ploting the centroids \n",
    "plt.scatter(train_scaled[home_features].iloc[:, 3], train_scaled[home_features].iloc[:, 2], c=y_kmeans2, s=20, cmap='viridis')\n",
    "centers = kmeans2.cluster_centers_\n",
    "plt.scatter(centers[:, 3], centers[:, 2], c='red', s=500, alpha=1, marker = 'x')\n",
    "centers"
   ]
  },
  {
   "cell_type": "code",
   "execution_count": 56,
   "metadata": {},
   "outputs": [],
   "source": [
    "# Appending cluster into the DataFrame\n",
    "train_scaled['home_features_cluster'] = y_kmeans2"
   ]
  },
  {
   "cell_type": "markdown",
   "metadata": {},
   "source": [
    "### Parameters for Tax Clusters"
   ]
  },
  {
   "cell_type": "code",
   "execution_count": 57,
   "metadata": {},
   "outputs": [
    {
     "data": {
      "image/png": "[encoded data removed]",
      "text/plain": [
       "<Figure size 936x504 with 1 Axes>"
      ]
     },
     "metadata": {
      "needs_background": "light"
     },
     "output_type": "display_data"
    }
   ],
   "source": [
    "\n",
    "tax_features = ['structure_tax_value_price', 'tax_value_dollar_count', 'land_tax_value_price', 'tax_amount']\n",
    "\n",
    "get_k_val_from_elbow(train_scaled, features = tax_features)"
   ]
  },
  {
   "cell_type": "code",
   "execution_count": 59,
   "metadata": {},
   "outputs": [
    {
     "data": {
      "text/plain": [
       "array([0, 3, 0, ..., 3, 1, 3], dtype=int32)"
      ]
     },
     "execution_count": 59,
     "metadata": {},
     "output_type": "execute_result"
    }
   ],
   "source": [
    "# lets keep k as 5\n",
    "\n",
    "# creating the object\n",
    "kmeans3 = KMeans(n_clusters = 5, max_iter = 500)\n",
    "\n",
    "# fitting the object\n",
    "kmeans3.fit(train_scaled[tax_features])\n",
    "\n",
    "#predicting using the kmeans object\n",
    "y_kmeans3 = kmeans3.predict(train_scaled[tax_features])\n",
    "y_kmeans3"
   ]
  },
  {
   "cell_type": "code",
   "execution_count": 60,
   "metadata": {},
   "outputs": [
    {
     "data": {
      "text/plain": [
       "array([[0.03221314, 0.03496669, 0.02174803, 0.03848679],\n",
       "       [0.10591471, 0.17526754, 0.14051931, 0.16799946],\n",
       "       [0.34209704, 0.63835167, 0.53770278, 0.5931962 ],\n",
       "       [0.05865576, 0.09144775, 0.0719143 , 0.09011602],\n",
       "       [0.1995935 , 0.33796147, 0.27226062, 0.31876709]])"
      ]
     },
     "execution_count": 60,
     "metadata": {},
     "output_type": "execute_result"
    },
    {
     "data": {
      "image/png": "[encoded data removed]",
      "text/plain": [
       "<Figure size 432x288 with 1 Axes>"
      ]
     },
     "metadata": {
      "needs_background": "light"
     },
     "output_type": "display_data"
    }
   ],
   "source": [
    "# lets plot the centroids\n",
    "\n",
    "plt.scatter(train_scaled[tax_features].iloc[:, 0], train_scaled[tax_features].iloc[:, 1], c=y_kmeans3, s=20, cmap='viridis')\n",
    "centers = kmeans3.cluster_centers_\n",
    "plt.scatter(centers[:, 0], centers[:, 1], c='red', s=500, alpha=1, marker = 'x')\n",
    "centers"
   ]
  },
  {
   "cell_type": "code",
   "execution_count": 61,
   "metadata": {},
   "outputs": [],
   "source": [
    "# Appending the clusters into DataFrame\n",
    "train_scaled['tax_features_cluster'] = y_kmeans3"
   ]
  },
  {
   "cell_type": "code",
   "execution_count": null,
   "metadata": {},
   "outputs": [],
   "source": []
  }
 ],
 "metadata": {
  "interpreter": {
   "hash": "40d3a090f54c6569ab1632332b64b2c03c39dcf918b08424e98f38b5ae0af88f"
  },
  "kernelspec": {
   "display_name": "Python 3 (ipykernel)",
   "language": "python",
   "name": "python3"
  },
  "language_info": {
   "codemirror_mode": {
    "name": "ipython",
    "version": 3
   },
   "file_extension": ".py",
   "mimetype": "text/x-python",
   "name": "python",
   "nbconvert_exporter": "python",
   "pygments_lexer": "ipython3",
   "version": "3.8.8"
  }
 },
 "nbformat": 4,
 "nbformat_minor": 2
}
