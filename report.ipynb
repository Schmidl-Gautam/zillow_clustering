{
 "cells": [
  {
   "cell_type": "markdown",
   "metadata": {},
   "source": [
    "## Zillow Clustering Project\n",
    "By: Scott Schmidl, Data Scientist\n",
    "01//2022\n",
    "\n",
    "### Goal\n",
    "\n",
    "\n",
    "### Description\n",
    "\n",
    "\n",
    "### Initial Questions\n",
    "<p>1)</p>\n",
    "<p>2)</p>\n",
    "<p>3)</p>\n",
    "<p>4)</p>\n",
    "\n",
    "### Data Dictionary\n",
    "## TO DO\n",
    "<table>\n",
    "<thead><tr>\n",
    "<th>Target</th>\n",
    "<th>Meaning</th>\n",
    "</tr>\n",
    "</thead>\n",
    "<tbody>\n",
    "<tr>\n",
    "<td>log_error</td>\n",
    "<td>log(Zestimate) – log(sale price)</td>\n",
    "</tr>\n",
    "</tbody>\n",
    "</table>\n",
    "<p></p>\n",
    "<table>\n",
    "<thead><tr>\n",
    "<th>Variable</th>\n",
    "<th>Meaning</th>\n",
    "</tr>\n",
    "</thead>\n",
    "<tbody>\n",
    "<tr>\n",
    "<td>parcel_id</td>\n",
    "<td>unique identifier for parcels (lots)</td>\n",
    "</tr>\n",
    "<tr>\n",
    "<td>bathroom_count</td>\n",
    "<td>number of bathrooms in home including fractional bathrooms</td>\n",
    "</tr>\n",
    "<tr>\n",
    "<td>bedroom_count</td>\n",
    "<td>number of bedrooms in home</td>\n",
    "</tr>\n",
    "<tr>\n",
    "<td>home_size_square_feet</td>\n",
    "<td>calculated total finished living area of the home</td>\n",
    "</tr>\n",
    "<tr>\n",
    "<td>fips</td>\n",
    "<td>Federal Information Processing Standard code -  see https://en.wikipedia.org/wiki/FIPS_county_code for more details</td>\n",
    "</tr>\n",
    "<tr>\n",
    "<td>latitude</td>\n",
    "<td>latitude of the middle of the parcel multiplied by 10e6</td>\n",
    "</tr>\n",
    "<tr>\n",
    "<td>longitude</td>\n",
    "<td>longitude of the middle of the parcel multiplied by 10e6</td>\n",
    "</tr>\n",
    "<tr>\n",
    "<td>lot_size_square_feet</td>\n",
    "<td>area of the lot in square feet</td>\n",
    "</tr>\n",
    "<tr>\n",
    "<td>raw_census_tract_and_block</td>\n",
    "<td>census tract and block ID combined - also contains blockgroup assignment by extension</td>\n",
    "</tr>\n",
    "<tr>\n",
    "<td>region_id_city</td>\n",
    "<td>city in which the property is located (if any)</td>\n",
    "</tr>\n",
    "<tr>\n",
    "<td>region_id_county</td>\n",
    "<td>county in which the property is located</td>\n",
    "</tr>\n",
    "<tr>\n",
    "<td>region_id_zip</td>\n",
    "<td>zip code in which the property is located</td>\n",
    "</tr>\n",
    "<tr>\n",
    "<td>room_count</td>\n",
    "<td>total number of rooms in the principal residence</td>\n",
    "</tr>\n",
    "<tr>\n",
    "<td>year_built</td>\n",
    "<td>the Year the principal residence was built</td>\n",
    "</tr>\n",
    "<tr>\n",
    "<td>structure_tax_value_price</td>\n",
    "<td>the assessed value of the built structure on the parcel</td>\n",
    "</tr>\n",
    "<tr>\n",
    "<td>home_price</td>\n",
    "<td>the total tax assessed value of the parcel</td>\n",
    "</tr>\n",
    "<tr>\n",
    "<td>assessment_year</td>\n",
    "<td>the year of the property tax assessment</td>\n",
    "</tr>\n",
    "<tr>\n",
    "<td>land_tax_value_price</td>\n",
    "<td>the assessed value of the land area of the parcel</td>\n",
    "</tr>\n",
    "<tr>\n",
    "<td>tax_amount</td>\n",
    "<td>the total property tax assessed for that assessment year</td>\n",
    "</tr>\n",
    "<tr>\n",
    "<td>census_tract_and_block</td>\n",
    "<td>census tract and block ID combined - also contains blockgroup assignment by extension</td>\n",
    "</tr>\n",
    "<tr>\n",
    "<td>transaction_date</td>\n",
    "<td>date home was purchased</td>\n",
    "</tr>\n",
    "<tr>\n",
    "<td>county</td>\n",
    "<td>county name of where the home resides</td>\n",
    "</tr>\n",
    "</tbody>\n",
    "</table>\n",
    "\n",
    "### Acquiring Zillow"
   ]
  },
  {
   "cell_type": "code",
   "execution_count": null,
   "metadata": {},
   "outputs": [],
   "source": []
  },
  {
   "cell_type": "markdown",
   "metadata": {},
   "source": [
    "### Preparing Zillow"
   ]
  },
  {
   "cell_type": "code",
   "execution_count": null,
   "metadata": {},
   "outputs": [],
   "source": []
  },
  {
   "cell_type": "markdown",
   "metadata": {},
   "source": [
    "### The Issue"
   ]
  },
  {
   "cell_type": "code",
   "execution_count": null,
   "metadata": {},
   "outputs": [],
   "source": []
  },
  {
   "cell_type": "markdown",
   "metadata": {},
   "source": [
    "#### Take Away\n",
    "- "
   ]
  },
  {
   "cell_type": "markdown",
   "metadata": {},
   "source": [
    "### Exploratory Data Analysis\n",
    "- Signifcance Level for each statistical test will be 0.05.\n",
    "\n",
    "#### Question 1\n",
    "\n",
    "\n",
    "- <p>H_o:</p>\n",
    "-  <p>H_a:</p>"
   ]
  },
  {
   "cell_type": "markdown",
   "metadata": {},
   "source": [
    "#### Take Away\n",
    "-"
   ]
  },
  {
   "cell_type": "markdown",
   "metadata": {},
   "source": [
    "#### Question 2\n",
    "\n",
    "\n",
    "- <p>H_o:</p>\n",
    "-  <p>H_a:</p>"
   ]
  },
  {
   "cell_type": "markdown",
   "metadata": {},
   "source": [
    "#### Take Away\n",
    "- "
   ]
  },
  {
   "cell_type": "markdown",
   "metadata": {},
   "source": [
    "#### Question 3\n",
    "\n",
    "\n",
    "- <p>H_o:</p>\n",
    "-  <p>H_a:</p>"
   ]
  },
  {
   "cell_type": "markdown",
   "metadata": {},
   "source": [
    "#### Take Away\n",
    "- "
   ]
  },
  {
   "cell_type": "markdown",
   "metadata": {},
   "source": [
    "#### Question 4\n",
    "\n",
    "\n",
    "- <p>H_o:</p>\n",
    "-  <p>H_a:</p>"
   ]
  },
  {
   "cell_type": "markdown",
   "metadata": {},
   "source": [
    "#### Take Away\n",
    "- "
   ]
  },
  {
   "cell_type": "markdown",
   "metadata": {},
   "source": [
    "#### Key Take Aways\n",
    "-"
   ]
  },
  {
   "cell_type": "markdown",
   "metadata": {},
   "source": [
    "### Clustering Zillow"
   ]
  },
  {
   "cell_type": "markdown",
   "metadata": {},
   "source": [
    "### Baseline\n",
    "-"
   ]
  },
  {
   "cell_type": "markdown",
   "metadata": {},
   "source": [
    "### Models\n",
    "- "
   ]
  },
  {
   "cell_type": "markdown",
   "metadata": {},
   "source": [
    "### Conclusion\n",
    "-"
   ]
  },
  {
   "cell_type": "markdown",
   "metadata": {},
   "source": [
    "### Recommendations and Next Steps\n",
    "-"
   ]
  },
  {
   "cell_type": "markdown",
   "metadata": {},
   "source": []
  }
 ],
 "metadata": {
  "interpreter": {
   "hash": "40d3a090f54c6569ab1632332b64b2c03c39dcf918b08424e98f38b5ae0af88f"
  },
  "kernelspec": {
   "display_name": "Python 3.8.11 64-bit ('base': conda)",
   "language": "python",
   "name": "python3"
  },
  "language_info": {
   "name": "python",
   "version": "3.8.11"
  },
  "orig_nbformat": 4
 },
 "nbformat": 4,
 "nbformat_minor": 2
}
