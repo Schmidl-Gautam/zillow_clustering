{
 "cells": [
  {
   "cell_type": "markdown",
   "metadata": {},
   "source": [
    "## Zillow Clustering Project\n",
    "By: Scott Schmidl, Data Scientist\n",
    "01//2022\n",
    "\n",
    "### Goal\n",
    "The goal of this project is to discover potential drivers for the log error and from those drivers make predictions about log error.\n",
    "\n",
    "### Description\n",
    "We want to find drivers of log error with the hopes of reducing future log errors leading to smaller differences between log(zestimate) and log(sale price)\n",
    "\n",
    "### Initial Questions\n",
    "<p>1) Does there appear to be some colinearity between columns?</p>\n",
    "<p>2) Is there a linear relationship between home size and log error?</p>\n",
    "<p>3) How does the mean log error compare between county?</p>\n",
    "<p>4) Is there a linear relationship between tax amount and log error?</p>\n",
    "\n",
    "### Data Dictionary\n",
    "<table>\n",
    "<thead><tr>\n",
    "<th>Target</th>\n",
    "<th>Meaning</th>\n",
    "</tr>\n",
    "</thead>\n",
    "<tbody>\n",
    "<tr>\n",
    "<td>log_error</td>\n",
    "<td>log(Zestimate) – log(sale price)</td>\n",
    "</tr>\n",
    "</tbody>\n",
    "</table>\n",
    "<p></p>\n",
    "<table>\n",
    "<thead><tr>\n",
    "<th>Variable</th>\n",
    "<th>Meaning</th>\n",
    "</tr>\n",
    "</thead>\n",
    "<tbody>\n",
    "<tr>\n",
    "<td>parcel_id</td>\n",
    "<td>unique identifier for parcels (lots)</td>\n",
    "</tr>\n",
    "<tr>\n",
    "<td>bathroom_count</td>\n",
    "<td>number of bathrooms in home including fractional bathrooms</td>\n",
    "</tr>\n",
    "<tr>\n",
    "<td>bedroom_count</td>\n",
    "<td>number of bedrooms in home</td>\n",
    "</tr>\n",
    "<tr>\n",
    "<td>home_size_square_feet</td>\n",
    "<td>calculated total finished living area of the home</td>\n",
    "</tr>\n",
    "<tr>\n",
    "<td>fips</td>\n",
    "<td>Federal Information Processing Standard code -  see https://en.wikipedia.org/wiki/FIPS_county_code for more details</td>\n",
    "</tr>\n",
    "<tr>\n",
    "<td>garage_car_count</td>\n",
    "<td>total number of garages on the lot including an attached garage</td>\n",
    "</tr>\n",
    "\n",
    "<tr>\n",
    "<td>latitude</td>\n",
    "<td>latitude of the middle of the parcel multiplied by 10e6</td>\n",
    "</tr>\n",
    "<tr>\n",
    "<td>longitude</td>\n",
    "<td>longitude of the middle of the parcel multiplied by 10e6</td>\n",
    "</tr>\n",
    "<tr>\n",
    "<td>lot_size_square_feet</td>\n",
    "<td>area of the lot in square feet</td>\n",
    "</tr>\n",
    "<tr>\n",
    "<td>raw_census_tract_and_block</td>\n",
    "<td>census tract and block ID combined - also contains blockgroup assignment by extension</td>\n",
    "</tr>\n",
    "<tr>\n",
    "<td>region_id_city</td>\n",
    "<td>city in which the property is located (if any)</td>\n",
    "</tr>\n",
    "<tr>\n",
    "<td>region_id_county</td>\n",
    "<td>county in which the property is located</td>\n",
    "</tr>\n",
    "<tr>\n",
    "<td>region_id_zip</td>\n",
    "<td>zip code in which the property is located</td>\n",
    "</tr>\n",
    "<tr>\n",
    "<td>room_count</td>\n",
    "<td>total number of rooms in the principal residence</td>\n",
    "</tr>\n",
    "<tr>\n",
    "<td>year_built</td>\n",
    "<td>the Year the principal residence was built</td>\n",
    "</tr>\n",
    "<tr>\n",
    "<td>structure_tax_value_price</td>\n",
    "<td>the assessed value of the built structure on the parcel</td>\n",
    "</tr>\n",
    "<tr>\n",
    "<td>home_price</td>\n",
    "<td>the total tax assessed value of the parcel</td>\n",
    "</tr>\n",
    "<tr>\n",
    "<td>assessment_year</td>\n",
    "<td>the year of the property tax assessment</td>\n",
    "</tr>\n",
    "<tr>\n",
    "<td>land_tax_value_price</td>\n",
    "<td>the assessed value of the land area of the parcel</td>\n",
    "</tr>\n",
    "<tr>\n",
    "<td>tax_amount</td>\n",
    "<td>the total property tax assessed for that assessment year</td>\n",
    "</tr>\n",
    "<tr>\n",
    "<td>census_tract_and_block</td>\n",
    "<td>census tract and block ID combined - also contains blockgroup assignment by extension</td>\n",
    "</tr>\n",
    "<tr>\n",
    "<td>transaction_date</td>\n",
    "<td>date home was purchased</td>\n",
    "</tr>\n",
    "<tr>\n",
    "<td>county</td>\n",
    "<td>county name of where the home resides</td>\n",
    "</tr>\n",
    "</tbody>\n",
    "</table>\n",
    "\n",
    "### Acquiring Zillow\n",
    "- To acquire the Zillow data, we used the Zillow database in our MySQL server, and selected several columns that hold information regarding taxes, design, and location. Please see acquire.py for full query details.\n",
    "- For this project the acquire module was imported into the prepare module for simplification."
   ]
  },
  {
   "cell_type": "code",
   "execution_count": null,
   "metadata": {},
   "outputs": [],
   "source": [
    "# Below code is what is used in the prepare module to acquire the data before preparing\n",
    "zillow = Acquire().get_zillow_data()"
   ]
  },
  {
   "cell_type": "markdown",
   "metadata": {},
   "source": [
    "### Preparing Zillow\n",
    "- Filtered by single use, bedrooms, bathrooms, units, and home size.\n",
    "- Missing values were removed if the column or row met a threshold.\n",
    "- Missing values in lot size were filled the mean.\n",
    "- Certain columns were droppped if they were not deemed helpful.\n",
    "- Outliers were removed by tax value dollar and home size.\n",
    "- Feature Engineering was perfomed to create the county column based off of the fips columns.\n",
    "- More missing values were dropped.\n",
    "- Column names were changed for readability.\n",
    "- Column data types were changed to coincide with observations they held."
   ]
  },
  {
   "cell_type": "code",
   "execution_count": 3,
   "metadata": {},
   "outputs": [],
   "source": [
    "# Import repare and pandas module\n",
    "import pandas as pd\n",
    "from prepare import Prepare\n",
    "from split_get_scale import SplitGetScale\n",
    "import warnings\n",
    "warnings.filterwarnings('ignore')\n",
    "\n",
    "# Acquire and Prepare zillow data\n",
    "zillow = Prepare().wrangle_zillow()\n",
    "\n",
    "# Instantiate SplitGetScale class\n",
    "sgs = SplitGetScale()\n",
    "\n",
    "# Get train, validate test\n",
    "train, validate, test = sgs.split(zillow)"
   ]
  },
  {
   "cell_type": "markdown",
   "metadata": {},
   "source": [
    "### The Issue"
   ]
  },
  {
   "cell_type": "code",
   "execution_count": 4,
   "metadata": {},
   "outputs": [
    {
     "data": {
      "image/png": "[encoded data removed]",
      "text/plain": [
       "<Figure size 432x288 with 1 Axes>"
      ]
     },
     "metadata": {
      "needs_background": "light"
     },
     "output_type": "display_data"
    }
   ],
   "source": [
    "# Import visualization modules\n",
    "import matplotlib.pyplot as plt\n",
    "import seaborn as sns\n",
    "\n",
    "# Plot histogram to visualization our target: log error\n",
    "sns.histplot(data=train[\"log_error\"])\n",
    "plt.xlim(-.75, .75);"
   ]
  },
  {
   "cell_type": "markdown",
   "metadata": {},
   "source": [
    "#### Take Away\n",
    "- While this histogram shows the log error quite tightly around 0, we are hoping to reduce the log error even more to help Zillow make even better approximations of a home's market value (Zestimate)."
   ]
  },
  {
   "cell_type": "markdown",
   "metadata": {},
   "source": [
    "### Exploratory Data Analysis\n",
    "- Signifcance Level for each statistical test will be 0.05.\n",
    "\n",
    "#### Question 1\n",
    "\n",
    "\n",
    "- <p>H_o:</p>\n",
    "-  <p>H_a:</p>"
   ]
  },
  {
   "cell_type": "markdown",
   "metadata": {},
   "source": [
    "#### Take Away\n",
    "-"
   ]
  },
  {
   "cell_type": "markdown",
   "metadata": {},
   "source": [
    "#### Question 2\n",
    "\n",
    "\n",
    "- <p>H_o:</p>\n",
    "-  <p>H_a:</p>"
   ]
  },
  {
   "cell_type": "markdown",
   "metadata": {},
   "source": [
    "#### Take Away\n",
    "- "
   ]
  },
  {
   "cell_type": "markdown",
   "metadata": {},
   "source": [
    "#### Question 3\n",
    "\n",
    "\n",
    "- <p>H_o:</p>\n",
    "-  <p>H_a:</p>"
   ]
  },
  {
   "cell_type": "markdown",
   "metadata": {},
   "source": [
    "#### Take Away\n",
    "- "
   ]
  },
  {
   "cell_type": "markdown",
   "metadata": {},
   "source": [
    "#### Question 4\n",
    "\n",
    "\n",
    "- <p>H_o:</p>\n",
    "-  <p>H_a:</p>"
   ]
  },
  {
   "cell_type": "markdown",
   "metadata": {},
   "source": [
    "#### Take Away\n",
    "- "
   ]
  },
  {
   "cell_type": "markdown",
   "metadata": {},
   "source": [
    "#### Key Take Aways\n",
    "-"
   ]
  },
  {
   "cell_type": "markdown",
   "metadata": {},
   "source": [
    "### Clustering Zillow"
   ]
  },
  {
   "cell_type": "markdown",
   "metadata": {},
   "source": [
    "### Baseline\n",
    "-"
   ]
  },
  {
   "cell_type": "markdown",
   "metadata": {},
   "source": [
    "### Models\n",
    "- "
   ]
  },
  {
   "cell_type": "markdown",
   "metadata": {},
   "source": [
    "### Conclusion\n",
    "-"
   ]
  },
  {
   "cell_type": "markdown",
   "metadata": {},
   "source": [
    "### Recommendations and Next Steps\n",
    "-"
   ]
  },
  {
   "cell_type": "markdown",
   "metadata": {},
   "source": []
  }
 ],
 "metadata": {
  "interpreter": {
   "hash": "40d3a090f54c6569ab1632332b64b2c03c39dcf918b08424e98f38b5ae0af88f"
  },
  "kernelspec": {
   "display_name": "Python 3 (ipykernel)",
   "language": "python",
   "name": "python3"
  },
  "language_info": {
   "codemirror_mode": {
    "name": "ipython",
    "version": 3
   },
   "file_extension": ".py",
   "mimetype": "text/x-python",
   "name": "python",
   "nbconvert_exporter": "python",
   "pygments_lexer": "ipython3",
   "version": "3.8.11"
  }
 },
 "nbformat": 4,
 "nbformat_minor": 2
}
